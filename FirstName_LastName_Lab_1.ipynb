{
  "nbformat": 4,
  "nbformat_minor": 0,
  "metadata": {
    "colab": {
      "provenance": []
    },
    "kernelspec": {
      "name": "python3",
      "display_name": "Python 3"
    },
    "language_info": {
      "name": "python"
    }
  },
  "cells": [
    {
      "cell_type": "markdown",
      "source": [
        "\n",
        "\n",
        "# Lab  #1\n",
        "\n",
        "First and Last Name: -------------\n",
        "\n",
        "Student ID: -------------\n",
        "\n",
        "Video URL: -----------------------\n"
      ],
      "metadata": {
        "id": "3i3d5zhlcNbg"
      }
    },
    {
      "cell_type": "code",
      "source": [
        "#You can create as many Code or Text cells\n",
        "#Write Python codes in Code cells \n",
        "#Answer Lab Questions in Text cells"
      ],
      "metadata": {
        "id": "Iz40mC0TcXCH"
      },
      "execution_count": null,
      "outputs": []
    },
    {
      "cell_type": "code",
      "source": [],
      "metadata": {
        "id": "86-JOg4ecTFp"
      },
      "execution_count": null,
      "outputs": []
    }
  ]
}